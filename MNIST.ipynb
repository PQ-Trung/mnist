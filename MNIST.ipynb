{
  "nbformat": 4,
  "nbformat_minor": 0,
  "metadata": {
    "colab": {
      "name": "MNIST.ipynb",
      "provenance": [],
      "collapsed_sections": []
    },
    "kernelspec": {
      "name": "python3",
      "display_name": "Python 3"
    },
    "accelerator": "GPU"
  },
  "cells": [
    {
      "cell_type": "code",
      "metadata": {
        "id": "3dQliJGqlPrz",
        "colab_type": "code",
        "colab": {}
      },
      "source": [
        "import tensorflow as tf\n",
        "mnist = tf.keras.datasets.mnist"
      ],
      "execution_count": 0,
      "outputs": []
    },
    {
      "cell_type": "code",
      "metadata": {
        "id": "msqW53ZUmumI",
        "colab_type": "code",
        "colab": {}
      },
      "source": [
        "mnist_data = mnist.load_data()"
      ],
      "execution_count": 0,
      "outputs": []
    },
    {
      "cell_type": "code",
      "metadata": {
        "id": "__vR3t-Rm7Aj",
        "colab_type": "code",
        "colab": {}
      },
      "source": [
        "(trainX, trainY), (testX, testY) = mnist_data"
      ],
      "execution_count": 0,
      "outputs": []
    },
    {
      "cell_type": "code",
      "metadata": {
        "id": "inZLanu-m87q",
        "colab_type": "code",
        "outputId": "0e38f9eb-0af1-4d05-a732-438ebaec97a6",
        "colab": {
          "base_uri": "https://localhost:8080/",
          "height": 283
        }
      },
      "source": [
        "import matplotlib.pyplot as plt\n",
        "\n",
        "plt.imshow(trainX[10], cmap = 'gray_r')"
      ],
      "execution_count": 27,
      "outputs": [
        {
          "output_type": "execute_result",
          "data": {
            "text/plain": [
              "<matplotlib.image.AxesImage at 0x7f78ce6adb70>"
            ]
          },
          "metadata": {
            "tags": []
          },
          "execution_count": 27
        },
        {
          "output_type": "display_data",
          "data": {
            "image/png": "[encoded data removed]",
            "text/plain": [
              "<Figure size 432x288 with 1 Axes>"
            ]
          },
          "metadata": {
            "tags": [],
            "needs_background": "light"
          }
        }
      ]
    },
    {
      "cell_type": "code",
      "metadata": {
        "id": "Q7uWFBxVpAhv",
        "colab_type": "code",
        "colab": {}
      },
      "source": [
        "#Normalize data\n",
        "trainX = trainX.astype('float')/255.0\n",
        "testX = testX.astype('float')/255.0"
      ],
      "execution_count": 0,
      "outputs": []
    },
    {
      "cell_type": "code",
      "metadata": {
        "id": "qDKixCquu92M",
        "colab_type": "code",
        "outputId": "4ea66399-0de1-49b8-b380-4ed78f49ba6b",
        "colab": {
          "base_uri": "https://localhost:8080/",
          "height": 35
        }
      },
      "source": [
        "import numpy as np\n",
        "a = trainX\n",
        "a = a.reshape(trainX.shape+(1,))\n",
        "a.shape"
      ],
      "execution_count": 29,
      "outputs": [
        {
          "output_type": "execute_result",
          "data": {
            "text/plain": [
              "(60000, 28, 28, 1)"
            ]
          },
          "metadata": {
            "tags": []
          },
          "execution_count": 29
        }
      ]
    },
    {
      "cell_type": "code",
      "metadata": {
        "id": "MNnsxxoGpLdX",
        "colab_type": "code",
        "colab": {}
      },
      "source": [
        "from sklearn.utils import shuffle\n",
        "\n",
        "trainX, trainY = shuffle(trainX, trainY)"
      ],
      "execution_count": 0,
      "outputs": []
    },
    {
      "cell_type": "code",
      "metadata": {
        "id": "AfVwvCh2xcjB",
        "colab_type": "code",
        "colab": {}
      },
      "source": [
        "#reshape trainX, testX\n",
        "trainX = trainX.reshape(trainX.shape+(1,))\n",
        "testX = testX.reshape(testX.shape+(1,))"
      ],
      "execution_count": 0,
      "outputs": []
    },
    {
      "cell_type": "code",
      "metadata": {
        "id": "TvAh9GRpptNQ",
        "colab_type": "code",
        "colab": {}
      },
      "source": [
        "# Change labels to OneHot\n",
        "# from sklearn.preprocessing import LabelBinarizer\n",
        "\n",
        "# lb = LabelBinarizer()\n",
        "\n",
        "# trainY = lb.fit_transform(trainY)\n",
        "# testY = lb.fit_transform(testY)"
      ],
      "execution_count": 0,
      "outputs": []
    },
    {
      "cell_type": "code",
      "metadata": {
        "id": "p90pR_SWn4CB",
        "colab_type": "code",
        "colab": {}
      },
      "source": [
        "from tensorflow.keras.models import Sequential\n",
        "from tensorflow.keras.layers import Dense, Conv2D, MaxPooling2D, Input, Activation\n",
        "from tensorflow.keras.layers import BatchNormalization, Flatten, Dropout\n",
        "from tensorflow.keras.preprocessing.image import ImageDataGenerator\n",
        "from tensorflow.keras.optimizers import SGD, Adam"
      ],
      "execution_count": 0,
      "outputs": []
    },
    {
      "cell_type": "code",
      "metadata": {
        "id": "E7wx0LcHo7Hx",
        "colab_type": "code",
        "colab": {}
      },
      "source": [
        "model = Sequential()\n",
        "\n",
        "model.add(Conv2D(32,(3,3), padding = 'same', input_shape = (28,28,1)))\n",
        "model.add(Activation('relu'))\n",
        "model.add(BatchNormalization())\n",
        "model.add(Conv2D(32,(3,3), padding = 'same'))\n",
        "model.add(Activation('relu'))\n",
        "model.add(BatchNormalization())\n",
        "model.add(MaxPooling2D(pool_size = (2,2)))\n",
        "\n",
        "# model.add(Conv2D(64,(3,3), padding = 'same'))\n",
        "# model.add(Activation('relu'))\n",
        "# model.add(BatchNormalization())\n",
        "# model.add(Conv2D(64,(3,3), padding = 'same'))\n",
        "# model.add(Activation('relu'))\n",
        "# model.add(BatchNormalization())\n",
        "# model.add(MaxPooling2D(pool_size = (2,2)))\n",
        "\n",
        "model.add(Flatten())\n",
        "model.add(Dense(128, activation = 'relu'))\n",
        "model.add(BatchNormalization())\n",
        "model.add(Dense(10, activation = 'softmax'))"
      ],
      "execution_count": 0,
      "outputs": []
    },
    {
      "cell_type": "code",
      "metadata": {
        "id": "lvGqR57ouJ27",
        "colab_type": "code",
        "colab": {}
      },
      "source": [
        "# # tang cuong data\n",
        "# aug = ImageDataGenerator(rotation_range=0.18, zoom_range = 0.15,\n",
        "#                          width_shift_range = 0.2, height_shift_range = 0.2,\n",
        "#                          horizontal_flip = True)\n",
        "\n",
        "learning_rate = 0.01"
      ],
      "execution_count": 0,
      "outputs": []
    },
    {
      "cell_type": "code",
      "metadata": {
        "id": "b1C2V-eNuTsR",
        "colab_type": "code",
        "colab": {}
      },
      "source": [
        "epochs = 10\n",
        "batch_size = 64\n",
        "\n",
        "opt = SGD(learning_rate = learning_rate,\n",
        "          momentum = 0.9)\n",
        "\n",
        "model.compile(optimizer = 'adam', \n",
        "              loss = 'sparse_categorical_crossentropy', \n",
        "              metrics = ['accuracy'])"
      ],
      "execution_count": 0,
      "outputs": []
    },
    {
      "cell_type": "code",
      "metadata": {
        "id": "gEkyd8CLuasO",
        "colab_type": "code",
        "outputId": "86bdc1a2-f3c3-465d-a420-444f4453d379",
        "colab": {
          "base_uri": "https://localhost:8080/",
          "height": 395
        }
      },
      "source": [
        "print('Start Traing!')\n",
        "H = model.fit(trainX, trainY,\n",
        "                        validation_data = (testX, testY),\n",
        "                        # steps_per_epoch = trainX.shape[0]/batch_size,\n",
        "                        epochs = epochs)"
      ],
      "execution_count": 37,
      "outputs": [
        {
          "output_type": "stream",
          "text": [
            "Start Traing!\n",
            "Epoch 1/10\n",
            "1875/1875 [==============================] - 6s 3ms/step - loss: 0.1040 - accuracy: 0.9692 - val_loss: 0.0475 - val_accuracy: 0.9853\n",
            "Epoch 2/10\n",
            "1875/1875 [==============================] - 6s 3ms/step - loss: 0.0425 - accuracy: 0.9870 - val_loss: 0.0396 - val_accuracy: 0.9870\n",
            "Epoch 3/10\n",
            "1875/1875 [==============================] - 6s 3ms/step - loss: 0.0295 - accuracy: 0.9909 - val_loss: 0.0644 - val_accuracy: 0.9795\n",
            "Epoch 4/10\n",
            "1875/1875 [==============================] - 6s 3ms/step - loss: 0.0211 - accuracy: 0.9934 - val_loss: 0.0424 - val_accuracy: 0.9862\n",
            "Epoch 5/10\n",
            "1875/1875 [==============================] - 6s 3ms/step - loss: 0.0160 - accuracy: 0.9949 - val_loss: 0.0337 - val_accuracy: 0.9888\n",
            "Epoch 6/10\n",
            "1875/1875 [==============================] - 6s 3ms/step - loss: 0.0127 - accuracy: 0.9959 - val_loss: 0.0335 - val_accuracy: 0.9894\n",
            "Epoch 7/10\n",
            "1875/1875 [==============================] - 6s 3ms/step - loss: 0.0103 - accuracy: 0.9966 - val_loss: 0.0333 - val_accuracy: 0.9912\n",
            "Epoch 8/10\n",
            "1875/1875 [==============================] - 6s 3ms/step - loss: 0.0075 - accuracy: 0.9977 - val_loss: 0.0382 - val_accuracy: 0.9886\n",
            "Epoch 9/10\n",
            "1875/1875 [==============================] - 6s 3ms/step - loss: 0.0077 - accuracy: 0.9977 - val_loss: 0.0425 - val_accuracy: 0.9892\n",
            "Epoch 10/10\n",
            "1875/1875 [==============================] - 6s 3ms/step - loss: 0.0068 - accuracy: 0.9978 - val_loss: 0.0416 - val_accuracy: 0.9889\n"
          ],
          "name": "stdout"
        }
      ]
    },
    {
      "cell_type": "code",
      "metadata": {
        "id": "J25lb52-uiqi",
        "colab_type": "code",
        "colab": {}
      },
      "source": [
        "model.save('mnist.h5')"
      ],
      "execution_count": 0,
      "outputs": []
    },
    {
      "cell_type": "code",
      "metadata": {
        "id": "UdeuHIeI1LQc",
        "colab_type": "code",
        "colab": {}
      },
      "source": [
        "saved_model = tf.keras.models.load_model('mnist.h5')"
      ],
      "execution_count": 0,
      "outputs": []
    },
    {
      "cell_type": "code",
      "metadata": {
        "id": "tbgYEFyh1RWz",
        "colab_type": "code",
        "outputId": "4594b535-2848-4db2-e020-b4f0eb8397a8",
        "colab": {
          "base_uri": "https://localhost:8080/",
          "height": 71
        }
      },
      "source": [
        "result = saved_model.predict(testX[1:2])\n",
        "result"
      ],
      "execution_count": 40,
      "outputs": [
        {
          "output_type": "execute_result",
          "data": {
            "text/plain": [
              "array([[1.5253672e-08, 2.3379731e-09, 1.0000000e+00, 7.0556310e-13,\n",
              "        2.5540403e-09, 8.6464578e-16, 1.0802845e-08, 2.4057900e-11,\n",
              "        2.8699799e-13, 1.6076583e-12]], dtype=float32)"
            ]
          },
          "metadata": {
            "tags": []
          },
          "execution_count": 40
        }
      ]
    },
    {
      "cell_type": "code",
      "metadata": {
        "id": "9-zg1lIy1a-z",
        "colab_type": "code",
        "colab": {}
      },
      "source": [
        "final = np.argmax(result)"
      ],
      "execution_count": 0,
      "outputs": []
    },
    {
      "cell_type": "code",
      "metadata": {
        "id": "VvEjSsC-1icE",
        "colab_type": "code",
        "outputId": "e675f665-bab5-4c17-f7fc-88749360fefd",
        "colab": {
          "base_uri": "https://localhost:8080/",
          "height": 301
        }
      },
      "source": [
        "print('y_pred: ', final)\n",
        "plt.imshow(testX[1], cmap = 'gray_r')"
      ],
      "execution_count": 45,
      "outputs": [
        {
          "output_type": "stream",
          "text": [
            "y_pred:  2\n"
          ],
          "name": "stdout"
        },
        {
          "output_type": "execute_result",
          "data": {
            "text/plain": [
              "<matplotlib.image.AxesImage at 0x7f78d05075c0>"
            ]
          },
          "metadata": {
            "tags": []
          },
          "execution_count": 45
        },
        {
          "output_type": "display_data",
          "data": {
            "image/png": "[encoded data removed]",
            "text/plain": [
              "<Figure size 432x288 with 1 Axes>"
            ]
          },
          "metadata": {
            "tags": [],
            "needs_background": "light"
          }
        }
      ]
    },
    {
      "cell_type": "code",
      "metadata": {
        "id": "NwRIN_Bk1jX8",
        "colab_type": "code",
        "outputId": "5f82ba54-7865-4380-d2c4-9f9bbca6b3b7",
        "colab": {
          "base_uri": "https://localhost:8080/",
          "height": 283
        }
      },
      "source": [
        "(trainX, trainY), (testX, testY) = mnist_data\n",
        "plt.imshow(testX[1])"
      ],
      "execution_count": 44,
      "outputs": [
        {
          "output_type": "execute_result",
          "data": {
            "text/plain": [
              "<matplotlib.image.AxesImage at 0x7f78d05a79e8>"
            ]
          },
          "metadata": {
            "tags": []
          },
          "execution_count": 44
        },
        {
          "output_type": "display_data",
          "data": {
            "image/png": "[encoded data removed]",
            "text/plain": [
              "<Figure size 432x288 with 1 Axes>"
            ]
          },
          "metadata": {
            "tags": [],
            "needs_background": "light"
          }
        }
      ]
    },
    {
      "cell_type": "code",
      "metadata": {
        "id": "YwSnJYr51pka",
        "colab_type": "code",
        "colab": {}
      },
      "source": [
        ""
      ],
      "execution_count": 0,
      "outputs": []
    }
  ]
}